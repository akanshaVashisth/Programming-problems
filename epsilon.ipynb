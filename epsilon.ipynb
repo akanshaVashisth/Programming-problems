{
 "cells": [
  {
   "cell_type": "code",
   "execution_count": 2,
   "metadata": {},
   "outputs": [],
   "source": [
    "import numpy as np\n",
    "import math"
   ]
  },
  {
   "cell_type": "code",
   "execution_count": 5,
   "metadata": {},
   "outputs": [
    {
     "ename": "IndentationError",
     "evalue": "expected an indented block (<ipython-input-5-abb7e8fae3d0>, line 3)",
     "output_type": "error",
     "traceback": [
      "\u001b[0;36m  File \u001b[0;32m\"<ipython-input-5-abb7e8fae3d0>\"\u001b[0;36m, line \u001b[0;32m3\u001b[0m\n\u001b[0;31m    return abs(x - y)\u001b[0m\n\u001b[0m         ^\u001b[0m\n\u001b[0;31mIndentationError\u001b[0m\u001b[0;31m:\u001b[0m expected an indented block\n"
     ]
    }
   ],
   "source": [
    "\"\"\"x, y, epsilon floats.  epsilon > 0.0 returns True if x is within epsilon of y\"\"\"\n",
    "def withinEpsilon(x, y, epsilon):\n",
    "return abs(x - y)\n",
    "\n",
    "print withinEpsilon(2, 3, 1)\n",
    "\n",
    "def f(x):\n",
    "    x = 'john'\n",
    "    x = x+1\n",
    "    print 'x =' , x\n",
    "    return x\n",
    "\n",
    "x = 3\n",
    "z = f(x)\n",
    "print 'z =' , z\n",
    "print 'x =' , x"
   ]
  },
  {
   "cell_type": "code",
   "execution_count": null,
   "metadata": {},
   "outputs": [],
   "source": []
  }
 ],
 "metadata": {
  "kernelspec": {
   "display_name": "Python 3",
   "language": "python",
   "name": "python3"
  },
  "language_info": {
   "codemirror_mode": {
    "name": "ipython",
    "version": 3
   },
   "file_extension": ".py",
   "mimetype": "text/x-python",
   "name": "python",
   "nbconvert_exporter": "python",
   "pygments_lexer": "ipython3",
   "version": "3.6.5"
  }
 },
 "nbformat": 4,
 "nbformat_minor": 2
}
