{
 "cells": [
  {
   "cell_type": "code",
   "execution_count": 5,
   "metadata": {},
   "outputs": [],
   "source": [
    "''' search_sorted function takes sorted list/array and a value to be searched in that list.\n",
    "The function searches to see if that value is present in the list or not.\n",
    "If the value is present in the list then the function returns True, else it returns False.'''\n",
    "\n",
    "# Note that this function only works on sorted lists.\n",
    "# Begin code\n",
    "def search_binary(data, key):\n",
    "    sorted(data)               # We could use a sort function to be sure that the input list is sorted. \n",
    "    left = 0                    # First element of the list is assigned a variable name 'left'.\n",
    "    right = len(data)           # Last element of the list is assigned a variable name 'right'.\n",
    "    mid =  ((left + right)//2)  # Finding the mid point of the list.\n",
    "    if len(data) == 0:\n",
    "        return False\n",
    "    else:\n",
    "        if data[mid] == key:                         # Checking if the middle value of the list is the value being searched for.\n",
    "            return True\n",
    "        elif data[mid] > key:\n",
    "            return search_sorted(data[:mid], key)    # Recursive call with first half of the list as the parameter for data.\n",
    "        elif data[mid] < key:\n",
    "            return search_sorted(data[mid+1:], key)  # Recursive call with second half of the list as the parameter for data.\n",
    "# End code\n"
   ]
  },
  {
   "cell_type": "code",
   "execution_count": 6,
   "metadata": {},
   "outputs": [
    {
     "data": {
      "text/plain": [
       "True"
      ]
     },
     "execution_count": 6,
     "metadata": {},
     "output_type": "execute_result"
    }
   ],
   "source": [
    "search_binary([1,8,9,41,66,77,82], 82)                     # Testing code"
   ]
  },
  {
   "cell_type": "code",
   "execution_count": null,
   "metadata": {},
   "outputs": [],
   "source": []
  }
 ],
 "metadata": {
  "kernelspec": {
   "display_name": "Python 3",
   "language": "python",
   "name": "python3"
  },
  "language_info": {
   "codemirror_mode": {
    "name": "ipython",
    "version": 3
   },
   "file_extension": ".py",
   "mimetype": "text/x-python",
   "name": "python",
   "nbconvert_exporter": "python",
   "pygments_lexer": "ipython3",
   "version": "3.6.5"
  }
 },
 "nbformat": 4,
 "nbformat_minor": 2
}
