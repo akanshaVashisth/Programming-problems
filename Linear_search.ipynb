{
 "cells": [
  {
   "cell_type": "code",
   "execution_count": 1,
   "metadata": {},
   "outputs": [
    {
     "data": {
      "text/plain": [
       "True"
      ]
     },
     "execution_count": 1,
     "metadata": {},
     "output_type": "execute_result"
    }
   ],
   "source": [
    "''' search_unsorted function takes an unsorted list/array and a value to be searched in that list.\n",
    "The function searches to see if that value is present in the list or not.\n",
    "If the value is present in the list then the function returns True, else it returns False.'''  \n",
    "# Begin code\n",
    "def search_linear(data, key) :\n",
    "    for element in data:        # Loop to iterate through all the values of the list.\n",
    "        if element == key:      # Condition to check if the value is the current element of the list.\n",
    "            return True \n",
    "    return False                # False is only returned when the loop has iterated through all the elements of the list and the value being search is not present in the list.\n",
    "# End code\n",
    "search_linear([1,2,5,7], 7)   # Testing code"
   ]
  },
  {
   "cell_type": "code",
   "execution_count": null,
   "metadata": {},
   "outputs": [],
   "source": []
  }
 ],
 "metadata": {
  "kernelspec": {
   "display_name": "Python 3",
   "language": "python",
   "name": "python3"
  },
  "language_info": {
   "codemirror_mode": {
    "name": "ipython",
    "version": 3
   },
   "file_extension": ".py",
   "mimetype": "text/x-python",
   "name": "python",
   "nbconvert_exporter": "python",
   "pygments_lexer": "ipython3",
   "version": "3.6.5"
  }
 },
 "nbformat": 4,
 "nbformat_minor": 2
}
