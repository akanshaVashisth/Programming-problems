{
 "cells": [
  {
   "cell_type": "code",
   "execution_count": 2,
   "metadata": {},
   "outputs": [
    {
     "name": "stdout",
     "output_type": "stream",
     "text": [
      "Inorder traversal is: \n",
      "8\n",
      "7\n",
      "2\n",
      "5\n",
      "1\n",
      "3\n",
      "Preorder traversal is: \n",
      "1\n",
      "2\n",
      "7\n",
      "8\n",
      "5\n",
      "3\n",
      "Postorder traversal is: \n",
      "8\n",
      "7\n",
      "5\n",
      "2\n",
      "3\n",
      "1\n",
      "Size of the tree is:  6\n",
      "Height of tree is: 4\n"
     ]
    }
   ],
   "source": [
    "class node:\n",
    "    def __init__(self, key):\n",
    "        self.right = None\n",
    "        self.left = None\n",
    "        self.val = key\n",
    "\n",
    "def inorder(root):\n",
    "    if root :\n",
    "        inorder(root.left)\n",
    "        print (root.val)\n",
    "        inorder(root.right)\n",
    "\n",
    "def preorder(root):\n",
    "    if root:\n",
    "        print(root.val)\n",
    "        preorder(root.left)\n",
    "        preorder(root.right)\n",
    "\n",
    "def postorder(root):\n",
    "    if root:\n",
    "        postorder(root.left)\n",
    "        postorder(root.right)\n",
    "        print(root.val)\n",
    "\n",
    "def size(node):\n",
    "    if node is None:\n",
    "        return 0\n",
    "    else:\n",
    "        return (size(node.left)+ 1 + size(node.right))\n",
    "\n",
    "def maxDepth(node):\n",
    "    if node is None:\n",
    "        return 0 \n",
    "    else :\n",
    "        lDepth = maxDepth(node.left)\n",
    "        rDepth = maxDepth(node.right)\n",
    "        if (lDepth > rDepth):\n",
    "            return lDepth+1\n",
    "        else:\n",
    "            return rDepth+1\n",
    "\n",
    "root = node(1)\n",
    "root.right = node(3)\n",
    "root.left = node (2)\n",
    "root.left.left  = node(4)\n",
    "root.left.right  = node(5)\n",
    "root.left.left = node(7)\n",
    "root.left.left.left = node(8)\n",
    "\n",
    "print (\"Inorder traversal is: \")\n",
    "inorder(root)\n",
    "print (\"Preorder traversal is: \")\n",
    "preorder(root)\n",
    "print (\"Postorder traversal is: \")\n",
    "postorder(root)\n",
    "\n",
    "print (\"Size of the tree is: \", (size(root)))\n",
    "\n",
    "print (\"Height of tree is:\", (maxDepth(root)))"
   ]
  },
  {
   "cell_type": "code",
   "execution_count": null,
   "metadata": {},
   "outputs": [],
   "source": []
  }
 ],
 "metadata": {
  "kernelspec": {
   "display_name": "Python 3",
   "language": "python",
   "name": "python3"
  },
  "language_info": {
   "codemirror_mode": {
    "name": "ipython",
    "version": 3
   },
   "file_extension": ".py",
   "mimetype": "text/x-python",
   "name": "python",
   "nbconvert_exporter": "python",
   "pygments_lexer": "ipython3",
   "version": "3.6.5"
  }
 },
 "nbformat": 4,
 "nbformat_minor": 2
}
