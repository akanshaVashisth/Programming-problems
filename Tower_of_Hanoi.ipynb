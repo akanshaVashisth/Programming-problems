{
 "cells": [
  {
   "cell_type": "code",
   "execution_count": 3,
   "metadata": {},
   "outputs": [
    {
     "name": "stdout",
     "output_type": "stream",
     "text": [
      "move from :a in c\n",
      "move from :a in b\n",
      "move from :c in b\n",
      "move from :a in c\n",
      "move from :b in a\n",
      "move from :b in c\n",
      "move from :a in c\n",
      "move from :a in b\n",
      "move from :c in b\n",
      "move from :c in a\n",
      "move from :b in a\n",
      "move from :c in b\n",
      "move from :a in c\n",
      "move from :a in b\n",
      "move from :c in b\n"
     ]
    }
   ],
   "source": [
    "def Hanoi(n,f,t,s):\n",
    "    if n==1:\n",
    "        print ('move from :'+ f + ' in ' + t)\n",
    "    else:\n",
    "        Hanoi(n-1, f, s, t)\n",
    "        Hanoi(1, f, t, s)\n",
    "        Hanoi(n-1, s, t, f)\n",
    "\n",
    "Hanoi(4, 'a', 'b', 'c')"
   ]
  },
  {
   "cell_type": "code",
   "execution_count": null,
   "metadata": {},
   "outputs": [],
   "source": []
  }
 ],
 "metadata": {
  "kernelspec": {
   "display_name": "Python 3",
   "language": "python",
   "name": "python3"
  },
  "language_info": {
   "codemirror_mode": {
    "name": "ipython",
    "version": 3
   },
   "file_extension": ".py",
   "mimetype": "text/x-python",
   "name": "python",
   "nbconvert_exporter": "python",
   "pygments_lexer": "ipython3",
   "version": "3.6.5"
  }
 },
 "nbformat": 4,
 "nbformat_minor": 2
}
