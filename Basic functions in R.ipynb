{
 "cells": [
  {
   "cell_type": "code",
   "execution_count": 1,
   "metadata": {},
   "outputs": [
    {
     "name": "stdout",
     "output_type": "stream",
     "text": [
      "[1] \"Pleased to meet you. It's currently 2018-10-16\"\n",
      "[1] \"My favourite number is 5\"\n"
     ]
    }
   ],
   "source": [
    "# Program to print out a greeting.\n",
    "name <- 'Jackson'\n",
    "number_favourite = 5\n",
    "\n",
    "if(name==\"Vincenzo\"){                                 # Condition for checking name = Vincenzo\n",
    "    print(paste(\"That's the instructor's name! It's currently\", Sys.Date())) \n",
    "}\n",
    "if(name==\"Santa\"){                                   # Condition for checking name = Santa     \n",
    "    print(paste(\"That's a funny name. It's currently\", Sys.Date()))                  \n",
    "    print(paste('You know, this name makes me want to print out another greeting!'))\n",
    "}else {                                             # Default condition\n",
    "    print(paste(\"Pleased to meet you. It's currently\", Sys.Date()))\n",
    "    print(paste('My favourite number is', 5))\n",
    "}"
   ]
  },
  {
   "cell_type": "code",
   "execution_count": null,
   "metadata": {},
   "outputs": [],
   "source": []
  }
 ],
 "metadata": {
  "kernelspec": {
   "display_name": "R",
   "language": "R",
   "name": "ir"
  },
  "language_info": {
   "codemirror_mode": "r",
   "file_extension": ".r",
   "mimetype": "text/x-r-source",
   "name": "R",
   "pygments_lexer": "r",
   "version": "3.5.1"
  }
 },
 "nbformat": 4,
 "nbformat_minor": 2
}
